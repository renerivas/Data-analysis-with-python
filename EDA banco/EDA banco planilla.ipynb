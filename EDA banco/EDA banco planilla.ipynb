{
  "nbformat": 4,
  "nbformat_minor": 0,
  "metadata": {
    "colab": {
      "provenance": []
    },
    "kernelspec": {
      "name": "python3",
      "display_name": "Python 3"
    },
    "language_info": {
      "name": "python"
    }
  },
  "cells": [
    {
      "cell_type": "markdown",
      "source": [
        "# **1. Limpieza de datos**"
      ],
      "metadata": {
        "id": "Fj0Rev2rQ_9X"
      }
    },
    {
      "cell_type": "markdown",
      "source": [
        "## 1.1 Importando datos a Python\n",
        "**Importando librerias**\n",
        "\n",
        "Las librerias más utilizadas para Ciencia de Datos son:"
      ],
      "metadata": {
        "id": "8X0S6OrHL_tK"
      }
    },
    {
      "cell_type": "code",
      "source": [
        "# Importando librerias\n",
        "import pandas as pd\n",
        "import os\n",
        "import math as mt\n",
        "import numpy as np\n",
        "import scipy\n",
        "import matplotlib.pyplot as plt\n",
        "import seaborn\n",
        "import statistics\n",
        "from scipy import stats"
      ],
      "metadata": {
        "id": "wRxcNeXQQsi3"
      },
      "execution_count": null,
      "outputs": []
    },
    {
      "cell_type": "markdown",
      "source": [
        "**Importando datos desde Excel**\n",
        "\n",
        "Para importar datos a Python desde un libro de Microsoft Excel, se utiliza la función **read_excel** de **pandas**. Su sintaxis es la siguiente:\n",
        "*nombre_dataframe = pd.read_excel(\"ruta//nombrearchivo\", sheet_name = \"nombre_hoja\")*"
      ],
      "metadata": {
        "id": "Itasg0UNTF4B"
      }
    },
    {
      "cell_type": "code",
      "source": [],
      "metadata": {
        "id": "lfGy3uTdgSjm"
      },
      "execution_count": null,
      "outputs": []
    },
    {
      "cell_type": "markdown",
      "source": [
        "## 1.2. Entendiendo los datos\n",
        "Para entender los datos que tenemos disponibles, podemos:\n",
        "*   Acceder a los primeros elementos de cada dataframe, con el metodo de lista .*head()*\n",
        "\n",
        "*nombre_dataframe.head()*\n",
        "*   A través de una tabla resumen con el método *.info()*\n",
        "\n",
        "*data_banco.info()*\n"
      ],
      "metadata": {
        "id": "pzrsXuuEL9Ta"
      }
    },
    {
      "cell_type": "code",
      "source": [],
      "metadata": {
        "id": "QV-CXLFxGjpt"
      },
      "execution_count": null,
      "outputs": []
    },
    {
      "cell_type": "markdown",
      "source": [
        "## 1.3 Transformación de tipos datos\n",
        "Ejecutaremos las recomendaciones con tipos de datos:\n",
        "*   Transformación a *string*\n",
        "*   Validación de datos númericos\n",
        "*   Validación de datos fecha y/o categoricos"
      ],
      "metadata": {
        "id": "RkGY-KAPhBmk"
      }
    },
    {
      "cell_type": "code",
      "source": [],
      "metadata": {
        "id": "E65z92ndHpt6"
      },
      "execution_count": null,
      "outputs": []
    },
    {
      "cell_type": "markdown",
      "source": [
        "# **2. Creación de nuevas variables**\n",
        "1.   Crear las variable Monto_total = Monto + Interes\n",
        "2.   Crear la variable Tiempo_Servicio_min\n",
        "\n"
      ],
      "metadata": {
        "id": "g3P5VzxE6Kjs"
      }
    },
    {
      "cell_type": "code",
      "source": [],
      "metadata": {
        "id": "9jHBbFSaHqFp"
      },
      "execution_count": null,
      "outputs": []
    },
    {
      "cell_type": "markdown",
      "source": [
        "# **3. Estadística descriptiva**"
      ],
      "metadata": {
        "id": "Ek_Db4PwhLl8"
      }
    },
    {
      "cell_type": "markdown",
      "source": [
        "## 3.1 Medidas de tendencia central"
      ],
      "metadata": {
        "id": "elwgDTFcHyg6"
      }
    },
    {
      "cell_type": "code",
      "source": [],
      "metadata": {
        "id": "SnqPcQCgH05s"
      },
      "execution_count": null,
      "outputs": []
    },
    {
      "cell_type": "markdown",
      "source": [
        "## 3.2 Medidas de posicion"
      ],
      "metadata": {
        "id": "PEgBhBu4H1na"
      }
    },
    {
      "cell_type": "code",
      "source": [],
      "metadata": {
        "id": "7gS-8JjSH_Df"
      },
      "execution_count": null,
      "outputs": []
    },
    {
      "cell_type": "markdown",
      "source": [
        "## 3.3 Medidas de dispersion"
      ],
      "metadata": {
        "id": "zx5JsV0RIBmb"
      }
    },
    {
      "cell_type": "code",
      "source": [],
      "metadata": {
        "id": "-xQ6HGP3IHwV"
      },
      "execution_count": null,
      "outputs": []
    },
    {
      "cell_type": "markdown",
      "source": [
        "## 3.4 Resumen en Python"
      ],
      "metadata": {
        "id": "4XBf-m_6IIUo"
      }
    },
    {
      "cell_type": "code",
      "source": [],
      "metadata": {
        "id": "5--5LkP1Ie_8"
      },
      "execution_count": null,
      "outputs": []
    },
    {
      "cell_type": "markdown",
      "source": [
        "# **4. Tablas resumen**"
      ],
      "metadata": {
        "id": "8FIMxRKLpAcl"
      }
    },
    {
      "cell_type": "markdown",
      "source": [
        "## 4.1 Resumen de estadísticas"
      ],
      "metadata": {
        "id": "2tjBIGzdwLLA"
      }
    },
    {
      "cell_type": "code",
      "source": [],
      "metadata": {
        "id": "0sduRYJQJTuZ"
      },
      "execution_count": null,
      "outputs": []
    },
    {
      "cell_type": "markdown",
      "source": [
        "## 4.2 Tablas de frecuencias"
      ],
      "metadata": {
        "id": "9I2u6LwUwP_h"
      }
    },
    {
      "cell_type": "code",
      "source": [],
      "metadata": {
        "id": "rp1Op3_xJUHr"
      },
      "execution_count": null,
      "outputs": []
    },
    {
      "cell_type": "markdown",
      "source": [
        "# **5. Unificación**"
      ],
      "metadata": {
        "id": "gGyWfeC18C3l"
      }
    },
    {
      "cell_type": "markdown",
      "source": [
        "## 5.1 Función/metodo merge\n",
        "\n",
        "La estructura del merge es:\n",
        "\n",
        "*merge(dataframe1, dataframe2, how = tipo_union, left_on = 'llave_left', rigth_on = 'llave_right')*\n",
        "\n",
        "Como método, su estructura es la siguiente:\n",
        "\n",
        "*dataframe1.merge(dataframe2, how = tipo_union, left_on = 'llave_left', rigth_on = 'llave_right')*"
      ],
      "metadata": {
        "id": "TnZM1dKF8Kit"
      }
    },
    {
      "cell_type": "code",
      "source": [
        "# Ejemplos de dataframes\n",
        "df1 = pd.DataFrame({\n",
        "  'Nombre': ['Jose', 'Claudia', 'Ruben', 'Cecilia', 'Patricia'],\n",
        "  'Edad' : [30,35,29,39,28],\n",
        "  'Ciudad': ['Santa Tecla', 'Sonsonate', 'Antiguo Cuscatlan', 'Santa Tecla', 'Soyapango']\n",
        "    })\n",
        "\n",
        "df2 = pd.DataFrame({\n",
        "  'Nombre_2': ['Jose', 'Claudia','Rodrigo'],\n",
        "  'Unidades' : [130,250,30]\n",
        "    })\n",
        "\n",
        "df3 = pd.DataFrame({\n",
        "  'Nombre': ['Jose', 'Ricardo','Lucas'],\n",
        "  'Unidades' : [130,250,30]\n",
        "    })"
      ],
      "metadata": {
        "id": "sB5YI_9tJRQ8"
      },
      "execution_count": null,
      "outputs": []
    },
    {
      "cell_type": "code",
      "source": [],
      "metadata": {
        "id": "KN5gPgpLO6NE"
      },
      "execution_count": null,
      "outputs": []
    },
    {
      "cell_type": "markdown",
      "source": [
        "**Regresando al conjunto de datos**\n",
        "\n",
        "¿Qué tipo de unión necesitariamos para nuestro set de datos?"
      ],
      "metadata": {
        "id": "ifnaux5Y_7WZ"
      }
    },
    {
      "cell_type": "code",
      "source": [],
      "metadata": {
        "id": "RbpGvu4RJSzE"
      },
      "execution_count": null,
      "outputs": []
    }
  ]
}