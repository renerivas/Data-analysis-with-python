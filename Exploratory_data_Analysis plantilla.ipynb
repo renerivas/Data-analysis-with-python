{
  "cells": [
    {
      "cell_type": "markdown",
      "metadata": {
        "id": "TOvht7vqQGdR"
      },
      "source": [
        "# Análisis exploratorio de datos en Python."
      ]
    },
    {
      "cell_type": "markdown",
      "metadata": {
        "id": "mhA_0CQOTDQy"
      },
      "source": [
        "## Entendamos cómo explorar los datos en Python.\n"
      ]
    },
    {
      "cell_type": "markdown",
      "metadata": {
        "id": "TEfC0QszTKX_"
      },
      "source": [
        "\n",
        "![alt text](https://moriohcdn.b-cdn.net/ff3cc511fb.png)\n"
      ]
    },
    {
      "cell_type": "markdown",
      "metadata": {
        "id": "NMyUUHXcHdqt"
      },
      "source": [
        "Image Credits: Morioh"
      ]
    },
    {
      "cell_type": "markdown",
      "metadata": {
        "id": "dB_j6LtTTO5j"
      },
      "source": [
        "## Introducción"
      ]
    },
    {
      "cell_type": "markdown",
      "metadata": {
        "id": "8hg00soETQ3z"
      },
      "source": [
        "**¿Qué es el análisis de datos exploratorios?**\n",
        "\n",
        "El análisis de datos exploratorios o (EDA) consiste en comprender los conjuntos de datos resumiendo sus características principales y, a menudo, representándolos visualmente. Este paso es muy importante especialmente cuando llegamos a modelar los datos para aplicar el aprendizaje automático. El trazado en EDA consta de histogramas, diagramas de caja, diagramas de dispersión y muchos más. A menudo lleva mucho tiempo explorar los datos. A través del proceso de EDA, podemos pedir definir el planteamiento o definición del problema en nuestro conjunto de datos, lo cual es muy importante."
      ]
    },
    {
      "cell_type": "markdown",
      "metadata": {
        "id": "ZfelutoyTS25"
      },
      "source": [
        "**¿Cómo realizar un análisis de datos exploratorios?**\n",
        "\n",
        "Esta es una de esas preguntas cuya respuesta todo el mundo está interesado. Bueno, la respuesta es que depende del conjunto de datos con el que estés trabajando. No existe un método único o métodos comunes para realizar EDA, mientras que en este tutorial puede comprender algunos métodos y gráficos comunes que se usarían en el proceso EDA."
      ]
    },
    {
      "cell_type": "markdown",
      "metadata": {
        "id": "n3VfNkBBw15s"
      },
      "source": [
        "**¿Qué datos estamos explorando hoy?**\n",
        "\n",
        " El conjunto de datos se puede descargar desde [aquí](https://www.kaggle.com/CooperUnion/cardataset). Para brindar una breve información sobre el conjunto de datos, estos datos contienen más de 10, 000 filas y más de 10 columnas que contienen características del automóvil, como tipo de combustible del motor, HP del motor, tipo de transmisión, MPG en carretera, MPG en ciudad y muchos más. más. Entonces, en este tutorial, exploraremos los datos y los prepararemos para el modelado."
      ]
    },
    {
      "cell_type": "markdown",
      "metadata": {
        "id": "CQDO4JCqTThV"
      },
      "source": [
        "\n",
        "\n",
        "---\n",
        "\n"
      ]
    },
    {
      "cell_type": "markdown",
      "metadata": {
        "id": "FPSqz1wzTXvz"
      },
      "source": [
        "## 1. Importación de las bibliotecas necesarias para EDA"
      ]
    },
    {
      "cell_type": "markdown",
      "metadata": {
        "id": "9eLMx1Ebwa92"
      },
      "source": [
        "A continuación se muestran las bibliotecas que se utilizan para realizar EDA (análisis de datos exploratorios) en este tutorial."
      ]
    },
    {
      "cell_type": "code",
      "execution_count": 1,
      "metadata": {
        "id": "GGyDovL2QDLa"
      },
      "outputs": [],
      "source": [
        "import pandas as pd\n",
        "import numpy as np\n",
        "import seaborn as sns                       #visualisation\n",
        "import matplotlib.pyplot as plt             #visualisation\n",
        "%matplotlib inline\n",
        "sns.set(color_codes=True)"
      ]
    },
    {
      "cell_type": "markdown",
      "metadata": {
        "id": "Ye6eXuohTd5Q"
      },
      "source": [
        "\n",
        "\n",
        "---\n",
        "\n"
      ]
    },
    {
      "cell_type": "markdown",
      "metadata": {
        "id": "8Y3Z2DbKTfJt"
      },
      "source": [
        "## 2. Cargando los datos en el marco de datos."
      ]
    },
    {
      "cell_type": "markdown",
      "metadata": {
        "id": "ko5zGJFCySaz"
      },
      "source": [
        "Cargar los datos en el marco de datos de pandas es sin duda uno de los pasos más importantes en EDA, ya que podemos ver que el valor del conjunto de datos está separado por comas. Entonces, todo lo que tenemos que hacer es leer el CSV en un marco de datos y el marco de datos de pandas hará el trabajo por nosotros."
      ]
    },
    {
      "cell_type": "markdown",
      "metadata": {
        "id": "LgzUzD61IM8h"
      },
      "source": [
        "Para obtener o cargar el conjunto de datos en el cuaderno, todo lo que hice fue un paso trivial. En **Google Colab**, en el lado izquierdo del cuaderno, encontrará un > (símbolo mayor que). Al hacer clic en eso encontrarás una pestaña con tres opciones, solo debes seleccionar Archivos. Luego podrá cargar fácilmente su archivo con la ayuda de la opción Cargar. No es necesario montarlo en Google Drive ni utilizar bibliotecas específicas, simplemente cargue el conjunto de datos y su trabajo estará listo. Una cosa para recordar en este paso es que los archivos cargados se eliminarán cuando se recicle este tiempo de ejecución. Así es como introduje el conjunto de datos en el cuaderno."
      ]
    },
    {
      "cell_type": "markdown",
      "metadata": {
        "id": "JjQnr4SPzaL5"
      },
      "source": [
        "\n",
        "\n",
        "---\n",
        "\n"
      ]
    },
    {
      "cell_type": "markdown",
      "metadata": {
        "id": "vAmC369yTpMF"
      },
      "source": [
        "## 3. Comprobando los tipos de datos"
      ]
    },
    {
      "cell_type": "markdown",
      "metadata": {
        "id": "9ESKxikIzA1d"
      },
      "source": [
        "Aquí verificamos los tipos de datos porque a veces el MSRP o el precio del automóvil se almacenan como una cadena, si en ese caso tenemos que convertir esa cadena a datos enteros, solo entonces podemos trazar los datos a través de un gráfico. Aquí, en este caso, los datos ya están en formato entero, así que no hay de qué preocuparse."
      ]
    },
    {
      "cell_type": "markdown",
      "metadata": {
        "id": "beRJyQAezdX8"
      },
      "source": [
        "\n",
        "\n",
        "---\n",
        "\n"
      ]
    },
    {
      "cell_type": "markdown",
      "metadata": {
        "id": "QoHuBhXxT5E9"
      },
      "source": [
        "## 4. Eliminando columnas irrelevantes"
      ]
    },
    {
      "cell_type": "markdown",
      "metadata": {
        "id": "_3cy877Mze4H"
      },
      "source": [
        "Este paso ciertamente es necesario en cada EDA porque a veces habrá muchas columnas que nunca usaremos, en tales casos eliminarlas es la única solución. En este caso, las columnas como Tipo de combustible del motor, Categoría de mercado, Estilo de vehículo, Popularidad, Número de puertas y Tamaño del vehículo no tienen ningún sentido para mí, así que las eliminé para este caso."
      ]
    },
    {
      "cell_type": "markdown",
      "metadata": {
        "id": "20OeQBpWz89v"
      },
      "source": [
        "\n",
        "\n",
        "---\n",
        "\n"
      ]
    },
    {
      "cell_type": "markdown",
      "metadata": {
        "id": "caAownWdUZso"
      },
      "source": [
        "## 5. Cambiar el nombre de las columnas"
      ]
    },
    {
      "cell_type": "markdown",
      "metadata": {
        "id": "UABLiEcyz-2G"
      },
      "source": [
        "En este caso, la mayoría de los nombres de las columnas son muy confusos de leer, así que simplemente modifiqué los nombres de las columnas. Este es un buen enfoque, mejora la legibilidad del conjunto de datos."
      ]
    },
    {
      "cell_type": "markdown",
      "metadata": {
        "id": "5tcGiOmV0afN"
      },
      "source": [
        "\n",
        "\n",
        "---\n",
        "\n"
      ]
    },
    {
      "cell_type": "markdown",
      "metadata": {
        "id": "uiW7x_O4WIDX"
      },
      "source": [
        "## 6. Eliminando las filas duplicadas"
      ]
    },
    {
      "cell_type": "markdown",
      "metadata": {
        "id": "9LpR5NW70hXm"
      },
      "source": [
        "Esto suele ser algo útil porque un conjunto de datos enorme, como en este caso, contiene más de 10.000 filas, a menudo tiene algunos datos duplicados que pueden resultar perturbadores, por lo que aquí elimino todos los valores duplicados del conjunto de datos. Por ejemplo, antes de eliminarlo, tenía 11914 filas de datos, pero después de eliminar los duplicados, 10925 datos, lo que significa que tenía 989 datos duplicados."
      ]
    },
    {
      "cell_type": "markdown",
      "metadata": {
        "id": "zCLUdZOQ1PDP"
      },
      "source": [
        "\n",
        "\n",
        "---\n",
        "\n"
      ]
    },
    {
      "cell_type": "markdown",
      "metadata": {
        "id": "JkXUQtyQW3Dy"
      },
      "source": [
        "## 7. Eliminando los valores faltantes o nulos."
      ]
    },
    {
      "cell_type": "markdown",
      "metadata": {
        "id": "K5pKvJi41YCp"
      },
      "source": [
        "Esto es muy similar al paso anterior, pero aquí todos los valores faltantes se detectan y se eliminan más adelante. Ahora bien, este no es un buen enfoque para hacerlo, porque muchas personas simplemente reemplazan los valores faltantes con la media o el promedio de esa columna, pero en este caso, simplemente eliminé esos valores faltantes. Esto se debe a que faltan casi 100 valores en comparación con 10.000 valores. Este es un número pequeño y es insignificante, por lo que simplemente eliminé esos valores."
      ]
    },
    {
      "cell_type": "markdown",
      "metadata": {
        "id": "iWJqTVxTJQnO"
      },
      "source": [
        "Esta es la razón por la que en el paso anterior, al contar tanto los cilindros como los caballos de fuerza (HP), se obtuvieron 10856 y 10895 en 10925 filas."
      ]
    },
    {
      "cell_type": "markdown",
      "metadata": {
        "id": "2t7L9l2mJSoX"
      },
      "source": [
        "Now we have removed all the rows which contain the Null or N/A values (Cylinders and Horsepower (HP))."
      ]
    },
    {
      "cell_type": "markdown",
      "metadata": {
        "id": "bk8RAHqQJVJK"
      },
      "source": [
        "\n",
        "\n",
        "---\n",
        "\n"
      ]
    },
    {
      "cell_type": "markdown",
      "metadata": {
        "id": "8Py3sQc_ZxyU"
      },
      "source": [
        "## 8. Detectar valores atípicos (outliers)"
      ]
    },
    {
      "cell_type": "markdown",
      "metadata": {
        "id": "1g6CJPofZzHN"
      },
      "source": [
        "Un valor atípico es un punto o conjunto de puntos que son diferentes de otros puntos. A veces pueden ser muy altos o muy bajos. A menudo es una buena idea detectar y eliminar los valores atípicos. Porque los valores atípicos son una de las principales razones por las que el resultado es un modelo menos preciso. Por eso es una buena idea eliminarlos. La detección y eliminación de valores atípicos que voy a realizar se llama técnica de puntuación IQR. A menudo, los valores atípicos se pueden ver con visualizaciones que utilizan un diagrama de caja. A continuación se muestra el diagrama de caja de MSRP, cilindros, caballos de fuerza y ​​tamaño del motor. Aquí en todas las tramas, puede encontrar que algunos puntos están fuera del cuadro y no son más que valores atípicos. (https://towardsdatascience.com/ways-to-detect-and-remove-the-outliers-404d16608dba )."
      ]
    },
    {
      "cell_type": "markdown",
      "metadata": {
        "id": "Z87kHbgvaQbb"
      },
      "source": [
        "\n",
        "\n",
        "---\n",
        "\n"
      ]
    },
    {
      "cell_type": "markdown",
      "metadata": {
        "id": "WqFPRda8eEp_"
      },
      "source": [
        "## 9. Trazar diferentes características entre sí (dispersión) y frecuencia (histograma)"
      ]
    },
    {
      "cell_type": "markdown",
      "metadata": {
        "id": "Z-W6Q9-hJosZ"
      },
      "source": [
        "### Histograma\n",
        "\n",
        "El histograma se refiere a la frecuencia de aparición de variables en un intervalo. En este caso, existen principalmente 10 tipos diferentes de empresas fabricantes de automóviles, pero a menudo es importante saber quién tiene la mayor cantidad de automóviles. Hacer este histograma es una de las soluciones triviales que nos permite saber el número total de automóviles fabricados por una empresa diferente."
      ]
    },
    {
      "cell_type": "markdown",
      "metadata": {
        "id": "c37WtYYWJuAQ"
      },
      "source": [
        "### Mapas de calor\n",
        "\n",
        "Heat Maps es un tipo de gráfico necesario cuando necesitamos encontrar las variables dependientes. Una de las mejores formas de encontrar la relación entre las características es mediante mapas de calor. En el siguiente mapa de calor sabemos que la característica del precio depende principalmente del tamaño del motor, los caballos de fuerza y ​​los cilindros."
      ]
    },
    {
      "cell_type": "markdown",
      "metadata": {
        "id": "1ROThOLQfRZw"
      },
      "source": [
        "### Gráfico de dispersión\n",
        "\n",
        "Generalmente utilizamos diagramas de dispersión para encontrar la correlación entre dos variables. Aquí los diagramas de dispersión se trazan entre caballos de fuerza y ​​precio y podemos ver el diagrama a continuación. Con el gráfico que se muestra a continuación, podemos dibujar fácilmente una línea de tendencia. Estas características proporcionan una buena dispersión de puntos."
      ]
    }
  ],
  "metadata": {
    "colab": {
      "name": "Exploratory data Analysis.ipynb",
      "provenance": []
    },
    "kernelspec": {
      "display_name": "Python 3",
      "name": "python3"
    },
    "language_info": {
      "codemirror_mode": {
        "name": "ipython",
        "version": 3
      },
      "file_extension": ".py",
      "mimetype": "text/x-python",
      "name": "python",
      "nbconvert_exporter": "python",
      "pygments_lexer": "ipython3",
      "version": "3.11.9"
    }
  },
  "nbformat": 4,
  "nbformat_minor": 0
}
